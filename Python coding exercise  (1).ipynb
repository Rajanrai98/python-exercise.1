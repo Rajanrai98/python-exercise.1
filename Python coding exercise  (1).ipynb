{
 "cells": [
  {
   "cell_type": "code",
   "execution_count": null,
   "id": "fc33cdd1",
   "metadata": {},
   "outputs": [],
   "source": [
    "age1 = int(input(\"enter the age1:\"))\n",
    "age2 = int(input(\"enter the age2:\"))\n",
    "age3 = int(input(\"enter the age3:\"))\n",
    "if age1>age2 and age1>age3:\n",
    "    print(\"age 1 is older\")\n",
    "elif age2>age1 and age2>age3:\n",
    "    print(\"age 2 is older\")\n",
    "else:\n",
    "    print(\"age3 is oldest\")"
   ]
  },
  {
   "cell_type": "code",
   "execution_count": null,
   "id": "31ade9f0",
   "metadata": {},
   "outputs": [],
   "source": [
    "def cel_to_fah(cel):\n",
    "    fah = (cel*1.8)+32\n",
    "    return fah"
   ]
  },
  {
   "cell_type": "code",
   "execution_count": null,
   "id": "ffb5d636",
   "metadata": {},
   "outputs": [],
   "source": [
    "cel_to_fah(32)"
   ]
  },
  {
   "cell_type": "code",
   "execution_count": null,
   "id": "779f9fd8",
   "metadata": {},
   "outputs": [],
   "source": [
    "num1 = int(input(\"enter the num1:\"))\n",
    "num2 = int(input(\"enter the num2:\"))\n",
    "num1,num2 = num2,num1\n",
    "print(num1,num2)"
   ]
  },
  {
   "cell_type": "code",
   "execution_count": null,
   "id": "4c570554",
   "metadata": {},
   "outputs": [],
   "source": [
    "def add(a,b,c):\n",
    "    sum = a+b+c\n",
    "    print(sum)"
   ]
  },
  {
   "cell_type": "code",
   "execution_count": null,
   "id": "92e7d430",
   "metadata": {},
   "outputs": [],
   "source": [
    "add(2,6,4)"
   ]
  },
  {
   "cell_type": "code",
   "execution_count": null,
   "id": "d8108d25",
   "metadata": {},
   "outputs": [],
   "source": [
    "num = int(input(\"enter the numbers:\"))\n",
    "a = num%10\n",
    "num = num//10\n",
    "b = num%10\n",
    "num = num//10\n",
    "c = num%10\n",
    "num = num//10\n",
    "d = num//10\n",
    "rev = 1000*a+100*b+10*c+1*d\n",
    "print(\"orginal:\",num)\n",
    "print(\"rev number:\",rev)\n",
    "if num==rev:\n",
    "    print(\"true\")\n",
    "else:\n",
    "    print(\"false\")\n"
   ]
  },
  {
   "cell_type": "code",
   "execution_count": null,
   "id": "e48c98f3",
   "metadata": {},
   "outputs": [],
   "source": [
    "num = 243578\n",
    "a = num%10\n",
    "num = num//10\n",
    "b = num%10\n",
    "num = num//10\n",
    "c = num%10\n",
    "num = num//10\n",
    "d = num%10\n",
    "num = num//10\n",
    "e = num%10\n",
    "num = num//10\n",
    "f = num//10\n",
    "rev = 100000*a+10000*b+1000*c+100*d+10*e+1*f\n",
    "print(\"reversed no:\",rev)\n",
    "print(\"original num:\",num)\n",
    "if num==rev:\n",
    "    print(\"True\")\n",
    "else:\n",
    "    print(\"False\")\n",
    "\n"
   ]
  },
  {
   "cell_type": "code",
   "execution_count": null,
   "id": "b967a62c",
   "metadata": {},
   "outputs": [],
   "source": [
    "num = int(input(\"enter the number:\"))\n",
    "if num%2==0:\n",
    "    print(\"it is even number\")\n",
    "else:\n",
    "    print(\"it is odd number\")"
   ]
  },
  {
   "cell_type": "code",
   "execution_count": null,
   "id": "c5c9e5f0",
   "metadata": {},
   "outputs": [],
   "source": [
    "year = int(input(\"enter the year:\"))\n",
    "if year%4==0 and year%100!=0:\n",
    "    print(\"Year will be leap year\")\n",
    "elif year%100==0 and year%400==0:\n",
    "    print(\"this year will be leap year\")\n",
    "else:\n",
    "    print(\"this year will not leap year\")"
   ]
  },
  {
   "cell_type": "code",
   "execution_count": null,
   "id": "6e6d276b",
   "metadata": {},
   "outputs": [],
   "source": [
    "import numpy as np"
   ]
  },
  {
   "cell_type": "code",
   "execution_count": null,
   "id": "35e0d23e",
   "metadata": {},
   "outputs": [],
   "source": [
    "x0 = 25\n",
    "x1 = 36\n",
    "y0 = 12\n",
    "y1 = 16\n",
    "euc_dis = np.sqrt((x1-x0)**2+(y1-y0)**2)\n",
    "print(euc_dis)"
   ]
  },
  {
   "cell_type": "code",
   "execution_count": null,
   "id": "1932f39d",
   "metadata": {},
   "outputs": [],
   "source": [
    "angle1 = int(input(\"enter the angle1:\"))\n",
    "angle2 = int(input(\"enter the angle2:\"))\n",
    "angle3 = int(input(\"enter the angle3:\"))\n",
    "if angle1==angle2==60 and angle2==angle3==60:\n",
    "    print(\"it can form a traingle\")\n",
    "else:\n",
    "    print(\"it does not form a traingle\")"
   ]
  },
  {
   "cell_type": "code",
   "execution_count": null,
   "id": "b27a8297",
   "metadata": {},
   "outputs": [],
   "source": [
    "cost_price = int(input(\"enter the cost price:\"))\n",
    "selling_price = int(input(\"enter the selling price:\"))\n",
    "profit = selling_price-cost_price\n",
    "if cost_price>selling_price:\n",
    "    print(\"loss\")\n",
    "elif selling_price>cost_price:\n",
    "    print(\"profit\")\n",
    "else:\n",
    "    print(\"BEP\")\n"
   ]
  },
  {
   "cell_type": "code",
   "execution_count": null,
   "id": "d160a907",
   "metadata": {},
   "outputs": [],
   "source": [
    "principle = int(input(\"enter the principle amount:\"))\n",
    "rate = int(input(\"enter the rate of interest amount:\"))\n",
    "time = int(input(\"enter the time period:\"))\n",
    "simple_interest = principle*rate*time/100\n",
    "print(\"simple_interest:\",simple_interest)"
   ]
  },
  {
   "cell_type": "code",
   "execution_count": null,
   "id": "2afc5f9b",
   "metadata": {},
   "outputs": [],
   "source": [
    "radius = int(input(\"enter the value of radius:\"))\n",
    "height = int(input(\"enter the value of height:\"))\n",
    "pi = 3.14\n",
    "volume = 2*pi*(radius)**2*height\n",
    "print(volume)\n",
    "print(\"price of cylinder according to volume:\",volume*40)"
   ]
  },
  {
   "cell_type": "code",
   "execution_count": null,
   "id": "38eab452",
   "metadata": {},
   "outputs": [],
   "source": [
    "number = int(input(\"enter the number:\"))\n",
    "if number%3==0 and number%6==0:\n",
    "    print(\"this number is divisible by 6 and 3\")\n",
    "else:\n",
    "    print(\"this number is not a divisible by 3 and 6\")"
   ]
  },
  {
   "cell_type": "code",
   "execution_count": null,
   "id": "3acb9b3c",
   "metadata": {},
   "outputs": [],
   "source": [
    "for i in range(1,100):\n",
    "    if i%3==0 and i%6==0:\n",
    "        print(i)"
   ]
  },
  {
   "cell_type": "code",
   "execution_count": null,
   "id": "cf587c52",
   "metadata": {},
   "outputs": [],
   "source": [
    "temp1 = int(input(\"enter the temp1:\"))\n",
    "temp2 = int(input(\"enter the temp2:\"))\n",
    "temp3 = int(input(\"enter the temp3:\"))\n",
    "humid1 = int(input(\"enter the humid1%:\"))\n",
    "humid2 = int(input(\"enter the humid2%:\"))\n",
    "humid3 = int(input(\"enter the humid3%:\"))\n",
    "if temp1>=30 and humid1>=90:\n",
    "    print(\"hot and humid condition\")\n",
    "elif temp2>=30 and humid2<90:\n",
    "    print(\"Hot condition\")\n",
    "elif temp3<30 and humid3>=90:\n",
    "    print(\"cool and humid\")\n",
    "else:\n",
    "    print(\"does not exist\")"
   ]
  },
  {
   "cell_type": "code",
   "execution_count": null,
   "id": "16a1d915",
   "metadata": {},
   "outputs": [],
   "source": [
    "a = int(input(\"enter the number a:\"))\n",
    "b = int(input(\"enter the number b:\"))\n",
    "c = int(input(\"enter the number c:\"))\n",
    "\n",
    "sqr = (a**2+b**2+c**2)\n",
    "print(a**2)\n",
    "print(b**2)\n",
    "print(c**2)\n",
    "print(\"total sqr:\",sqr)"
   ]
  },
  {
   "cell_type": "code",
   "execution_count": null,
   "id": "2f86fc3e",
   "metadata": {},
   "outputs": [],
   "source": [
    "num = int(input(\"enter the number:\"))\n",
    "sum = 0\n",
    "temp = num\n",
    "while temp>0:\n",
    "    digit = temp%10\n",
    "    cube = digit**3\n",
    "    temp//=10\n",
    "    sum = sum+cube\n",
    "if num==sum:\n",
    "    print(\"amrstrong number\")\n",
    "else:\n",
    "    print(\"not a armstrong number\")"
   ]
  },
  {
   "cell_type": "code",
   "execution_count": null,
   "id": "b60c1a78",
   "metadata": {},
   "outputs": [],
   "source": [
    "num = int(input(\"enter the narcissist number:\"))\n",
    "a = num%10\n",
    "num = num//10\n",
    "b = num%10\n",
    "num = num//10\n",
    "c = num%10\n",
    "d = num//10\n",
    "sum = (a)**4+(b)**4+(c)**4+(d)**4\n",
    "if num==sum:\n",
    "    print(\"this is narcissist number\")\n",
    "else:\n",
    "    print(\"this is not a narcissist number\")"
   ]
  },
  {
   "cell_type": "code",
   "execution_count": null,
   "id": "cdc3737b",
   "metadata": {},
   "outputs": [],
   "source": [
    "hra = 0.10\n",
    "da = 0.05\n",
    "pf = 0.03\n",
    "\n",
    "user_input = int(input(\"enter the amount of salary:\"))\n",
    "if user_input>=500000 and user_input<=1000000:\n",
    "    salary = (user_input)-((user_input*0.10)-hra-da-pf)\n",
    "    print(salary)\n",
    "elif user_input>=1100000 and user_input<=2000000:\n",
    "    salary = (user_input)-((user_input*0.20)-hra-da-pf)\n",
    "    print(salary)\n",
    "elif user_input>=1100000 and user_input<=2000000:\n",
    "    salary = (user_input)-((user_input*0.30)-hra-da-pf)\n",
    "    print(salary)\n",
    "elif user_input>0 and user_input<100000:\n",
    "            print(k)\n",
    "else:\n",
    "    print(\"Invalid input\")"
   ]
  },
  {
   "cell_type": "code",
   "execution_count": null,
   "id": "17669964",
   "metadata": {},
   "outputs": [],
   "source": [
    "print(\"hello!fox come to my page for calculation:\")\n",
    "print(\"1.for cm to ft\")\n",
    "print(\"2.for kl to miles\")\n",
    "print(\"3.for usd to inr\")\n",
    "user_input = int(input(\"enter the value as input:\"))\n",
    "if user_input==1:\n",
    "    cm = int(input(\"enter the value of cm:\"))\n",
    "    ft = cm/30\n",
    "    print(ft)\n",
    "elif user_input==2:\n",
    "    km = int(input(\"enter the value of km:\"))\n",
    "    miles = km/1.6\n",
    "    print(miles)\n",
    "elif user_input==3:\n",
    "    usd = int(input(\"enter the amount in usd:\"))\n",
    "    inr = usd*85\n",
    "    print(inr)\n",
    "elif user_input==4:\n",
    "    print(\"Exit\")\n",
    "else:\n",
    "    print(\"Invalid Input\")\n"
   ]
  },
  {
   "cell_type": "code",
   "execution_count": null,
   "id": "8e706c58",
   "metadata": {},
   "outputs": [],
   "source": [
    "a = int(input(\"enter the number:\"))\n",
    "b = int(input(\"enter the number:\"))\n",
    "a,b = b,a\n",
    "print(a,b)"
   ]
  },
  {
   "cell_type": "code",
   "execution_count": null,
   "id": "ee47980e",
   "metadata": {},
   "outputs": [],
   "source": [
    "num = int(input(\"enter the number:\"))\n",
    "sum = num*(num+1)/2\n",
    "print(sum)"
   ]
  },
  {
   "cell_type": "code",
   "execution_count": null,
   "id": "195c131d",
   "metadata": {},
   "outputs": [],
   "source": [
    "num1 = int(input(\"enter the value1:\"))\n",
    "num2 = int(input(\"enter the value2:\"))\n",
    "sum = 0\n",
    "for i in range(0,num1):\n",
    "    sum = sum+num2\n",
    "print(sum)\n",
    "    "
   ]
  },
  {
   "cell_type": "code",
   "execution_count": null,
   "id": "f0869210",
   "metadata": {},
   "outputs": [],
   "source": [
    "def factorial(a):\n",
    "    if a==0:\n",
    "        return 1\n",
    "    else:\n",
    "        return(a*factorial(a-1))"
   ]
  },
  {
   "cell_type": "code",
   "execution_count": null,
   "id": "41aab3e8",
   "metadata": {},
   "outputs": [],
   "source": [
    "factorial(3)"
   ]
  },
  {
   "cell_type": "code",
   "execution_count": null,
   "id": "f529e11c",
   "metadata": {},
   "outputs": [],
   "source": [
    "a = 0\n",
    "i = 1\n",
    "while True:\n",
    "    if i%2!=0:\n",
    "        print(i)\n",
    "        a = a+1\n",
    "    if a==25:\n",
    "        break\n",
    "    i = i+1"
   ]
  },
  {
   "cell_type": "code",
   "execution_count": null,
   "id": "4c841b09",
   "metadata": {},
   "outputs": [],
   "source": [
    "num = int(input(\"enter the number:\"))\n",
    "if num>1:\n",
    "    for i in range(2,num):\n",
    "        if num%i==0:\n",
    "            print(\"not a prime number\")\n",
    "            break\n",
    "    else:\n",
    "        print(\"it is a prime number\")"
   ]
  },
  {
   "cell_type": "code",
   "execution_count": null,
   "id": "ab256848",
   "metadata": {},
   "outputs": [],
   "source": [
    "lower = int(input(\"enter the number:\"))\n",
    "upper = int(input(\"enter the number:\"))\n",
    "for num in range(lower,upper+1):\n",
    "    if num>1:\n",
    "        for i in range(2,lower):\n",
    "            if num%i==0:\n",
    "                break\n",
    "        else:\n",
    "            print(num)"
   ]
  },
  {
   "cell_type": "code",
   "execution_count": null,
   "id": "521a552b",
   "metadata": {},
   "outputs": [],
   "source": [
    "for num in range(100,1000):\n",
    "    sum = 0\n",
    "    temp = num\n",
    "    while temp>0:\n",
    "        digit = temp%10\n",
    "        cubic = digit**3\n",
    "        sum = sum+cubic\n",
    "        temp//=10\n",
    "    if sum==num:\n",
    "        print(num)\n",
    "            \n"
   ]
  },
  {
   "cell_type": "code",
   "execution_count": null,
   "id": "a44af165",
   "metadata": {},
   "outputs": [],
   "source": [
    "flag = 0\n",
    "a = 10000\n",
    "print(a)\n",
    "while True:\n",
    "    b = a-(0.10*a)\n",
    "    a = b\n",
    "    print(int(a))\n",
    "    flag = flag+1\n",
    "    if flag==9:\n",
    "        break"
   ]
  },
  {
   "cell_type": "code",
   "execution_count": null,
   "id": "a5b6d036",
   "metadata": {},
   "outputs": [],
   "source": [
    "num = 0\n",
    "i = 1\n",
    "while i<=9:\n",
    "    print(num+i)\n",
    "    i = i+1\n",
    "    "
   ]
  },
  {
   "cell_type": "code",
   "execution_count": null,
   "id": "061d3dd1",
   "metadata": {},
   "outputs": [],
   "source": [
    "a = int(input(\"enter the value:\"))\n",
    "b = int(input(\"enter the value:\"))\n",
    "while a%b!=0:\n",
    "    rem = a%b\n",
    "    b = rem\n",
    "print(\"hcf:\",b)\n",
    "\n"
   ]
  },
  {
   "cell_type": "code",
   "execution_count": null,
   "id": "e447dffd",
   "metadata": {},
   "outputs": [],
   "source": [
    "a = int(input(\"enter the number:\"))\n",
    "b = int(input(\"enter the number:\"))\n",
    "while a%b!=0:\n",
    "    rem = a%b\n",
    "    a = b\n",
    "    b = rem\n",
    "hcf = b\n",
    "print(hcf)\n",
    "\n",
    "lcm = (a*b)/hcf\n",
    "print(lcm)"
   ]
  },
  {
   "cell_type": "code",
   "execution_count": null,
   "id": "6f294fe6",
   "metadata": {},
   "outputs": [],
   "source": [
    "a = 0\n",
    "i = 1\n",
    "while True:\n",
    "    if i%2!=0:\n",
    "        print(i)\n",
    "        a = a+1\n",
    "    if a ==25:\n",
    "        break\n",
    "    i = i+1\n",
    "    "
   ]
  },
  {
   "cell_type": "code",
   "execution_count": null,
   "id": "7c90147a",
   "metadata": {},
   "outputs": [],
   "source": [
    "a = 0\n",
    "b = 1\n",
    "num = int(input(\"enter the number:\"))\n",
    "if num==1:\n",
    "    print(a)\n",
    "else:\n",
    "    print(a)\n",
    "    print(b)\n",
    "    for i in range(1,num+1):\n",
    "        c = a+b\n",
    "        a = b\n",
    "        b = c\n",
    "        print(c)"
   ]
  },
  {
   "cell_type": "code",
   "execution_count": null,
   "id": "e647c2ca",
   "metadata": {},
   "outputs": [],
   "source": [
    "p = int(input(\"enter the number:\"))\n",
    "r = int(input(\"enter the number:\"))\n",
    "time = int(input(\"enter the number:\"))\n",
    "a = p*(1+r/100)**time\n",
    "print(a)\n",
    "ci = a-p\n",
    "print(ci)"
   ]
  },
  {
   "cell_type": "code",
   "execution_count": null,
   "id": "07c89ed6",
   "metadata": {},
   "outputs": [],
   "source": [
    "n = input(\"enter the number:\")\n",
    "print(\"n:\",n)\n",
    "nn = n+n\n",
    "print(\"n+n:\",nn)\n",
    "nnn = n+n+n\n",
    "print(\"n+n+n:\",nnn)\n",
    "\n",
    "com = int(n)+int(nn)+int(nnn)\n",
    "print(com)"
   ]
  },
  {
   "cell_type": "code",
   "execution_count": null,
   "id": "b64da13f",
   "metadata": {},
   "outputs": [],
   "source": []
  },
  {
   "cell_type": "code",
   "execution_count": null,
   "id": "539a41fc",
   "metadata": {},
   "outputs": [],
   "source": []
  }
 ],
 "metadata": {
  "kernelspec": {
   "display_name": "Python 3 (ipykernel)",
   "language": "python",
   "name": "python3"
  },
  "language_info": {
   "codemirror_mode": {
    "name": "ipython",
    "version": 3
   },
   "file_extension": ".py",
   "mimetype": "text/x-python",
   "name": "python",
   "nbconvert_exporter": "python",
   "pygments_lexer": "ipython3",
   "version": "3.10.9"
  }
 },
 "nbformat": 4,
 "nbformat_minor": 5
}
